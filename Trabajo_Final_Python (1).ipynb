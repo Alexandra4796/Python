{
 "cells": [
  {
   "cell_type": "markdown",
   "id": "95f471e0",
   "metadata": {},
   "source": [
    "# Trabajo Final\n",
    "\n",
    "Alumna: Alexandra Maribel Calderon Salas\n"
   ]
  },
  {
   "cell_type": "markdown",
   "id": "b4a9d73e",
   "metadata": {},
   "source": [
    "Durante la pandemia, uno de los sectores que fue afectado fue el educativo. La pandemia conllevó la interrupción de los procesos educativos de miles de estudiantes que se vió afectada por la suspensión de clases presenciales por dos años. Si bien al inicio del estado de emergencia se implementaron rápidamente diferentes modalidades de educación a distancia, una gran parte de los escolares no ha contado con las herramientas necesarias para simular en sus hogares el entorno de aprendizaje que tenían en un salón de clases. Por tanto, el presente trabajo tiene como objetivo analizar la percepción de los estudiantes en los servicios educativos que brinda la escuela relacionado a 4 ejes: Infraestructura, Equipamiento, Enseñanaza de los maestros, Dotación de materiales, y Apoyo a la participación de los padres de familia. \n",
    "\n",
    "Este análisis nos ayudará a poder recoger información sobre los usuarios principales que reciben este servicio y poder tomar decisiones al respecto para mejorar la calidad de servicio que perciben. "
   ]
  },
  {
   "cell_type": "code",
   "execution_count": 31,
   "id": "f39b6d46",
   "metadata": {},
   "outputs": [],
   "source": [
    "import pandas as pd"
   ]
  },
  {
   "cell_type": "code",
   "execution_count": 94,
   "id": "847dc0a3",
   "metadata": {},
   "outputs": [
    {
     "name": "stderr",
     "output_type": "stream",
     "text": [
      "C:\\Users\\Alexandra\\anaconda3\\lib\\site-packages\\IPython\\core\\interactiveshell.py:3165: DtypeWarning: Columns (12,13,26,32,59,130,296,311,559,560,565) have mixed types.Specify dtype option on import or set low_memory=False.\n",
      "  has_raised = await self.run_ast_nodes(code_ast.body, cell_name,\n"
     ]
    }
   ],
   "source": [
    "### Abrir un archivo spss es muy parecido a abrir un archivo csv \n",
    "basedatos = pd.read_csv(\"D:/Python/Enaho01A-2020-300.csv\")"
   ]
  },
  {
   "cell_type": "code",
   "execution_count": 101,
   "id": "05e9f581",
   "metadata": {},
   "outputs": [],
   "source": [
    "## Seleccionamos las variables que se utilizarán para el análisis \n",
    "variables = ['DOMINIO','P301A','P302X','P308A','P308D','P308B1','P308B2','P308B3','P308B4']\n",
    "Base_Final = basedatos[variables].copy().reset_index()"
   ]
  },
  {
   "cell_type": "code",
   "execution_count": 121,
   "id": "bc75f22e",
   "metadata": {},
   "outputs": [],
   "source": [
    "## Se cambiará los nombres de las variables para poder reconocerlas\n",
    "BF_2 = Base_Final.copy(deep = True)\n",
    "BF_2.columns\n",
    "nuevos_nombres = {'P301A': 'ultimo_nivel_educativo', 'P302X' : 'leer_escribir', 'P308A' : 'nivel_grado', 'P308D' : 'centro_estudio', 'P308B1' : 'percepcion_infraestructura', 'P308B2' : 'percepcion_equipamiento', 'P308B3' : 'percepcion_enseñanza', 'P308B4' : 'percepcion_materiales'}\n",
    "BF_2.rename(columns = nuevos_nombres, inplace = True)\n",
    "## Verificamos \n",
    "##BF_2.columns"
   ]
  },
  {
   "cell_type": "code",
   "execution_count": 116,
   "id": "039b599f",
   "metadata": {},
   "outputs": [],
   "source": [
    "## Se cambiará los valores de las variables para poder apreciar mejor los gráficos\n",
    "BF_2['ultimo_nivel_educativo'] = BF_2['ultimo_nivel_educativo']\n",
    "BF_2.replace({'ultimo_nivel_educativo': {1: 'Sin Nivel',\n",
    "                                 2: 'Educación Inicial', 3:'Primaria Incompleta', 4:'Primaria Completa', 5:'Secundaria Incompleta',\n",
    "                                 6: 'Secundaria Completa', 7:'Superior No Universitaria Incompleta', \n",
    "                                 8:'Superior No Universitaria Completa', 9: 'Superior Universitaria Incompleta', \n",
    "                                 10:'Superior Universitaria Completa', 11:'Maestria/doctorado',\n",
    "                                 12:'Basica Especial', 99: 'No Sabe/No respondió'}}, inplace = True)\n",
    "\n",
    "BF_2['leer_escribir'] = BF_2['leer_escribir']\n",
    "BF_2.replace({'leer_escribir': {1: 'Si', 2: 'No', 3:'No se aplicó la pregunta'}}, inplace = True)\n",
    "\n",
    "BF_2['centro_estudio'] = BF_2['centro_estudio']\n",
    "BF_2.replace({'centro_estudio': {1: 'Estatal', 2: 'No Estatal', 9:'No respondio'}}, inplace = True)\n",
    "\n",
    "BF_2['percepcion_infraestructura'] = BF_2['percepcion_infraestructura']\n",
    "BF_2.replace({'percepcion_infraestructura': {1: 'Muy malo',\n",
    "                                 2: 'Malo', 3:'Bueno', 4:'Muy Bueno', 5:'No Sabe'}}, inplace = True)\n",
    "\n",
    "BF_2['percepcion_equipamiento'] = BF_2['percepcion_equipamiento']\n",
    "BF_2.replace({'percepcion_equipamiento': {1: 'Muy malo',\n",
    "                                 2: 'Malo', 3:'Bueno', 4:'Muy Bueno', 5:'No Sabe'}}, inplace = True)\n",
    "\n",
    "BF_2['percepcion_enseñanza'] = BF_2['percepcion_enseñanza']\n",
    "BF_2.replace({'percepcion_enseñanza': {1: 'Muy malo',\n",
    "                                 2: 'Malo', 3:'Bueno', 4:'Muy Bueno', 5:'No Sabe'}}, inplace = True)\n",
    "\n",
    "BF_2['percepcion_materiales'] = BF_2['percepcion_materiales']\n",
    "BF_2.replace({'percepcion_materiales': {1: 'Muy malo',\n",
    "                                 2: 'Malo', 3:'Bueno', 4:'Muy Bueno', 5:'No Sabe'}}, inplace = True)\n"
   ]
  },
  {
   "cell_type": "code",
   "execution_count": 139,
   "id": "b61b4cda",
   "metadata": {},
   "outputs": [],
   "source": [
    "##Creación de una variable para contabalizar la cantidad de cada registro\n",
    "BF_2['Cantidad'] = 1"
   ]
  },
  {
   "cell_type": "code",
   "execution_count": null,
   "id": "76611cc6",
   "metadata": {},
   "outputs": [],
   "source": [
    "%pip install altair vega_datasets"
   ]
  },
  {
   "cell_type": "code",
   "execution_count": null,
   "id": "1b246ab7",
   "metadata": {},
   "outputs": [],
   "source": [
    "import pip\n",
    "pip.main([\"install\",\"matplotlib\"])"
   ]
  },
  {
   "cell_type": "code",
   "execution_count": 138,
   "id": "6c4a9afd",
   "metadata": {},
   "outputs": [],
   "source": [
    "import matplotlib.pyplot as plt"
   ]
  },
  {
   "cell_type": "markdown",
   "id": "21e08172",
   "metadata": {},
   "source": [
    "### Percepción de la calidad de la Infraestructura del Centro de Estudio\n",
    "De acuerdo al Gráfico N° 1, casi el 79% de los estudiantes perciben que la calidad de sus centros de estudios son buenas. Sin embargo, existe un 12% de estudiantes que opinan que la infraestructura de sus centros educativos son de muy mala o mala calidad. Por otro lado, solo un 6% de estudiantes encuentran a sus centros de estudios con muy buena infraestructura para realizar actividades en ellas."
   ]
  },
  {
   "cell_type": "code",
   "execution_count": null,
   "id": "adee1795",
   "metadata": {},
   "outputs": [],
   "source": [
    "lista_col1=['#3b5998','#FF0000','#25d366','#8a3ab9','#0e76a8']\n",
    "plt.pie(BF_2['Cantidad'],\n",
    "       labels=BF_2['percepcion_infraestructura'],\n",
    "       colors=lista_col1,\n",
    "       shadow=True,\n",
    "       explode=[0,0.2,0,0.4,0] \n",
    "       autopct='%1.1f%%')\n",
    "plt.title('Gráfico N°1: Percepción de la calidad de la Infraestructura del Centro de Estudio')\n",
    "plt.show()"
   ]
  },
  {
   "cell_type": "markdown",
   "id": "52647638",
   "metadata": {},
   "source": [
    "### Percepción de la calidad del Eqipamiento del Centro de Estudio\n",
    "De acuerdo al Gráfico N° 2, existe un 15% de estudiantes que opinan que sus centros educativos no cuentan con el equipamiento adecuado para realizar sus actividades en ellas. Asimismo, el 74% de los estudiantes perciben que el equipamiento de sus centros de estudios son buenas. Por otro lado, solo un 5% de estudiantes encuentran a sus centros de estudios con un muy buen equipamiento que les ayude a desarrollar sus clases dentro de estos."
   ]
  },
  {
   "cell_type": "code",
   "execution_count": null,
   "id": "965c0111",
   "metadata": {},
   "outputs": [],
   "source": [
    "lista_col2=['#EE6055','#60D394','#AAF683','#FFD97D','#FF9B85']\n",
    "plt.pie(BF_2['Cantidad'],\n",
    "       labels=BF_2['percepcion_equipamiento'],\n",
    "       colors=lista_col2,\n",
    "       shadow=True,\n",
    "       explode=[0,0.2,0,0.4,0] \n",
    "       autopct='%1.1f%%')\n",
    "plt.title('Gráfico N°2: Percepción de la calidad del Eqipamiento del Centro de Estudio')\n",
    "plt.show()"
   ]
  },
  {
   "cell_type": "markdown",
   "id": "6abdf0d6",
   "metadata": {},
   "source": [
    "### Percepción de la calidad de Enseñanza de los Maestros\n",
    "De acuerdo al Gráfico N° 3, el 79%  y el 10% de los estudiantes opinan que la calidad de enseñanaza de los maestros en sus centros de estudios son buenos y muy buenos respectivamentes. Sin embargo, existe un 10% de estudiantes que perciben lo contrario; estos consideran que están recibiendo una calidad de enseñanza muy mala o mala dentro de las aulas de estudios."
   ]
  },
  {
   "cell_type": "code",
   "execution_count": null,
   "id": "69f887c6",
   "metadata": {},
   "outputs": [],
   "source": [
    "lista_col3=['#3b5998','#FF0000','#25d366','#8a3ab9','#0e76a8']\n",
    "plt.pie(BF_2['Cantidad'],\n",
    "       labels=BF_2['percepcion_enseñanza'],\n",
    "       colors=lista_col3,\n",
    "       shadow=True,\n",
    "       explode=[0,0.2,0,0.4,0] \n",
    "       autopct='%1.1f%%')\n",
    "plt.title('Gráfico N°3: Percepción de la calidad de Enseñanza de los Maestros')\n",
    "plt.show()"
   ]
  },
  {
   "cell_type": "markdown",
   "id": "0796e5bf",
   "metadata": {},
   "source": [
    "### Percepción de la Dotación de Materiales Educativos\n",
    "El Gráfico N° 4 nos muestra que solo un 5% de estudiantes opinan que reciben muy buenos materiales educativos. Además, el 83% consideran que reciben buenos materiales, pero todavía sigue existiendo un 9% de estudiantes que opinan que la dotación de materiales edcuativos que reciben son muy malos o malos para su desarrollo educativo."
   ]
  },
  {
   "cell_type": "code",
   "execution_count": null,
   "id": "27a03ea1",
   "metadata": {},
   "outputs": [],
   "source": [
    "sta_col4=['#EE6055','#60D394','#AAF683','#FFD97D','#FF9B85']\n",
    "plt.pie(BF_2['Cantidad'],\n",
    "       labels=BF_2['percepcion_materiales'],\n",
    "       colors=lista_col4,\n",
    "       shadow=True,\n",
    "       explode=[0,0.2,0,0.4,0] \n",
    "       autopct='%1.1f%%')\n",
    "plt.title('Gráfico N°4: Percepción de la Dotación de Materiales Educativos')\n",
    "plt.show()"
   ]
  },
  {
   "cell_type": "markdown",
   "id": "1caf4231",
   "metadata": {},
   "source": [
    "Es preciso aclarar que no se ha analizado las respuesta de los estudiantes que no han tenido una respuesta clara al momento de consultarle sobre la percepción de cada eje. \n",
    "\n",
    "En conclusión, existe un 12% de estudiantes en promedio que opinan que no reciben una calidad muy mala o mala dentro de cada eje temático de acuerdo a las preguntas realizadas. Es importante tener en cuenta, que las preguntas han hecho referencia al año 2019, antes de la pandemia, lo cual evidencia todavía una implementación de mejora dentro del sector educativo para que los estudiantes puedan poder recibir una educación de calidad y con un servicio brindado igualitariamente. "
   ]
  }
 ],
 "metadata": {
  "kernelspec": {
   "display_name": "Python 3",
   "language": "python",
   "name": "python3"
  },
  "language_info": {
   "codemirror_mode": {
    "name": "ipython",
    "version": 3
   },
   "file_extension": ".py",
   "mimetype": "text/x-python",
   "name": "python",
   "nbconvert_exporter": "python",
   "pygments_lexer": "ipython3",
   "version": "3.8.8"
  }
 },
 "nbformat": 4,
 "nbformat_minor": 5
}
